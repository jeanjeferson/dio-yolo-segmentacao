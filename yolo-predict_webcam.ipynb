{
 "cells": [
  {
   "cell_type": "code",
   "execution_count": 1,
   "metadata": {},
   "outputs": [],
   "source": [
    "from ultralytics import YOLO\n",
    "import cv2\n",
    "import time"
   ]
  },
  {
   "cell_type": "code",
   "execution_count": 2,
   "metadata": {},
   "outputs": [],
   "source": [
    "# Carregar o modelo\n",
    "model = YOLO('runs/detect/train/weights/best.pt')"
   ]
  },
  {
   "cell_type": "code",
   "execution_count": 3,
   "metadata": {},
   "outputs": [],
   "source": [
    "# Inicializar webcam\n",
    "cap = cv2.VideoCapture(0)  # 0 para webcam padrão\n",
    "cap.set(cv2.CAP_PROP_FRAME_WIDTH, 640)\n",
    "cap.set(cv2.CAP_PROP_FRAME_HEIGHT, 480)\n",
    "\n",
    "# Nomes das classes\n",
    "class_names = ['buffalo', 'elephant', 'rhino', 'zebra']"
   ]
  },
  {
   "cell_type": "code",
   "execution_count": null,
   "metadata": {},
   "outputs": [],
   "source": [
    "while True:\n",
    "    # Ler frame da webcam\n",
    "    ret, frame = cap.read()\n",
    "    if not ret:\n",
    "        break\n",
    "        \n",
    "    # Fazer predição\n",
    "    results = model.predict(frame, conf=0.25)\n",
    "    \n",
    "    # Pegar o primeiro resultado\n",
    "    result = results[0]\n",
    "    \n",
    "    # Desenhar as detecções\n",
    "    for box in result.boxes:\n",
    "        # Coordenadas da box\n",
    "        x1, y1, x2, y2 = box.xyxy[0]\n",
    "        \n",
    "        # Classe e confiança\n",
    "        cls = int(box.cls[0])\n",
    "        conf = float(box.conf[0])\n",
    "        \n",
    "        # Label\n",
    "        label = f\"{class_names[cls]}: {conf:.2f}\"\n",
    "        \n",
    "        # Desenhar retângulo e texto\n",
    "        cv2.rectangle(frame, \n",
    "                     (int(x1), int(y1)), \n",
    "                     (int(x2), int(y2)), \n",
    "                     (0, 255, 0), 2)\n",
    "        cv2.putText(frame, label, \n",
    "                   (int(x1), int(y1-10)), \n",
    "                   cv2.FONT_HERSHEY_SIMPLEX, \n",
    "                   0.9, (0, 255, 0), 2)\n",
    "    \n",
    "    # Mostrar frame\n",
    "    cv2.imshow('YOLO Detections', frame)\n",
    "    \n",
    "    # Sair com 'q'\n",
    "    if cv2.waitKey(1) & 0xFF == ord('q'):\n",
    "        break"
   ]
  },
  {
   "cell_type": "code",
   "execution_count": 5,
   "metadata": {},
   "outputs": [],
   "source": [
    "# Limpar\n",
    "cap.release()\n",
    "cv2.destroyAllWindows()"
   ]
  },
  {
   "cell_type": "code",
   "execution_count": null,
   "metadata": {},
   "outputs": [],
   "source": []
  },
  {
   "cell_type": "code",
   "execution_count": null,
   "metadata": {},
   "outputs": [],
   "source": []
  }
 ],
 "metadata": {
  "kernelspec": {
   "display_name": "Python 3",
   "language": "python",
   "name": "python3"
  },
  "language_info": {
   "codemirror_mode": {
    "name": "ipython",
    "version": 3
   },
   "file_extension": ".py",
   "mimetype": "text/x-python",
   "name": "python",
   "nbconvert_exporter": "python",
   "pygments_lexer": "ipython3",
   "version": "3.12.0"
  }
 },
 "nbformat": 4,
 "nbformat_minor": 2
}
