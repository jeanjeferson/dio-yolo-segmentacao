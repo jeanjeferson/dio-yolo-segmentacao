{
 "cells": [
  {
   "cell_type": "code",
   "execution_count": 1,
   "metadata": {},
   "outputs": [],
   "source": [
    "# 1. Instalação e Imports\n",
    "from ultralytics import YOLO\n",
    "import torch\n",
    "import matplotlib.pyplot as plt\n",
    "import cv2\n",
    "import numpy as np\n",
    "from pathlib import Path"
   ]
  },
  {
   "cell_type": "code",
   "execution_count": 2,
   "metadata": {},
   "outputs": [
    {
     "name": "stdout",
     "output_type": "stream",
     "text": [
      "[WindowsPath('notebooks/datasets/african-wildlife/test'), WindowsPath('notebooks/datasets/african-wildlife/train'), WindowsPath('notebooks/datasets/african-wildlife/valid')]\n"
     ]
    }
   ],
   "source": [
    "# 2. Configuração de diretórios\n",
    "DATASET_PATH = Path(\"notebooks/datasets/african-wildlife\")\n",
    "RESULTS_PATH = Path(\"runs/detect\")\n",
    "\n",
    "# list all files in the dataset\n",
    "print(list(DATASET_PATH.glob('*')))\n",
    "\n"
   ]
  },
  {
   "cell_type": "code",
   "execution_count": null,
   "metadata": {},
   "outputs": [],
   "source": [
    "# Load a model\n",
    "model = YOLO(\"yolo11n.pt\")  # load a pretrained model (recommended for training)\n",
    "\n",
    "# Train the model\n",
    "results = model.train(data=\"african-wildlife.yaml\", epochs=5, imgsz=640)"
   ]
  },
  {
   "cell_type": "code",
   "execution_count": 4,
   "metadata": {},
   "outputs": [
    {
     "name": "stdout",
     "output_type": "stream",
     "text": [
      "Estrutura do Dataset:\n",
      "Total de imagens de treino: 1052\n",
      "Total de imagens de validação: 225\n",
      "Total de imagens de teste: 227\n",
      "\n",
      "Exemplo de label:\n",
      "0 0.410000 0.408750 0.400000 0.382500\n"
     ]
    }
   ],
   "source": [
    "def check_dataset():\n",
    "    print(\"Estrutura do Dataset:\")\n",
    "    train_images_path = DATASET_PATH / 'train' / 'images'\n",
    "    valid_images_path = DATASET_PATH / 'valid' / 'images'\n",
    "    test_images_path = DATASET_PATH / 'test' / 'images'\n",
    "    \n",
    "    print(f\"Total de imagens de treino: {len(list(train_images_path.glob('*.jpg')))}\")\n",
    "    print(f\"Total de imagens de validação: {len(list(valid_images_path.glob('*.jpg')))}\")\n",
    "    print(f\"Total de imagens de teste: {len(list(test_images_path.glob('*.jpg')))}\")\n",
    "    \n",
    "    # Verificar algumas labels\n",
    "    sample_label = next((DATASET_PATH/'train'/'labels').glob('*.txt'))\n",
    "    with open(sample_label) as f:\n",
    "        print(\"\\nExemplo de label:\")\n",
    "        print(f.read())\n",
    "\n",
    "check_dataset()"
   ]
  },
  {
   "cell_type": "code",
   "execution_count": 5,
   "metadata": {},
   "outputs": [
    {
     "name": "stdout",
     "output_type": "stream",
     "text": [
      "Downloading https://github.com/ultralytics/assets/releases/download/v8.3.0/yolov8n.pt to 'yolov8n.pt'...\n"
     ]
    },
    {
     "name": "stderr",
     "output_type": "stream",
     "text": [
      "100%|██████████| 6.25M/6.25M [00:00<00:00, 21.5MB/s]\n"
     ]
    },
    {
     "name": "stdout",
     "output_type": "stream",
     "text": [
      "Ultralytics 8.3.55  Python-3.12.0 torch-2.5.1+cpu CPU (Intel Core(TM) i5-1035G1 1.00GHz)\n",
      "\u001b[34m\u001b[1mengine\\trainer: \u001b[0mtask=detect, mode=train, model=yolov8n.pt, data=african-wildlife.yaml, epochs=5, time=None, patience=20, batch=16, imgsz=640, save=True, save_period=-1, cache=False, device=cpu, workers=8, project=None, name=train2, exist_ok=False, pretrained=True, optimizer=auto, verbose=True, seed=0, deterministic=True, single_cls=False, rect=False, cos_lr=False, close_mosaic=10, resume=False, amp=True, fraction=1.0, profile=False, freeze=None, multi_scale=False, overlap_mask=True, mask_ratio=4, dropout=0.0, val=True, split=val, save_json=False, save_hybrid=False, conf=None, iou=0.7, max_det=300, half=False, dnn=False, plots=True, source=None, vid_stride=1, stream_buffer=False, visualize=False, augment=False, agnostic_nms=False, classes=None, retina_masks=False, embed=None, show=False, save_frames=False, save_txt=False, save_conf=False, save_crop=False, show_labels=True, show_conf=True, show_boxes=True, line_width=None, format=torchscript, keras=False, optimize=False, int8=False, dynamic=False, simplify=True, opset=None, workspace=None, nms=False, lr0=0.01, lrf=0.01, momentum=0.937, weight_decay=0.0005, warmup_epochs=3.0, warmup_momentum=0.8, warmup_bias_lr=0.1, box=7.5, cls=0.5, dfl=1.5, pose=12.0, kobj=1.0, nbs=64, hsv_h=0.015, hsv_s=0.7, hsv_v=0.4, degrees=0.0, translate=0.1, scale=0.5, shear=0.0, perspective=0.0, flipud=0.0, fliplr=0.5, bgr=0.0, mosaic=1.0, mixup=0.0, copy_paste=0.0, copy_paste_mode=flip, auto_augment=randaugment, erasing=0.4, crop_fraction=1.0, cfg=None, tracker=botsort.yaml, save_dir=runs\\detect\\train2\n",
      "Overriding model.yaml nc=80 with nc=4\n",
      "\n",
      "                   from  n    params  module                                       arguments                     \n",
      "  0                  -1  1       464  ultralytics.nn.modules.conv.Conv             [3, 16, 3, 2]                 \n",
      "  1                  -1  1      4672  ultralytics.nn.modules.conv.Conv             [16, 32, 3, 2]                \n",
      "  2                  -1  1      7360  ultralytics.nn.modules.block.C2f             [32, 32, 1, True]             \n",
      "  3                  -1  1     18560  ultralytics.nn.modules.conv.Conv             [32, 64, 3, 2]                \n",
      "  4                  -1  2     49664  ultralytics.nn.modules.block.C2f             [64, 64, 2, True]             \n",
      "  5                  -1  1     73984  ultralytics.nn.modules.conv.Conv             [64, 128, 3, 2]               \n",
      "  6                  -1  2    197632  ultralytics.nn.modules.block.C2f             [128, 128, 2, True]           \n",
      "  7                  -1  1    295424  ultralytics.nn.modules.conv.Conv             [128, 256, 3, 2]              \n",
      "  8                  -1  1    460288  ultralytics.nn.modules.block.C2f             [256, 256, 1, True]           \n",
      "  9                  -1  1    164608  ultralytics.nn.modules.block.SPPF            [256, 256, 5]                 \n",
      " 10                  -1  1         0  torch.nn.modules.upsampling.Upsample         [None, 2, 'nearest']          \n",
      " 11             [-1, 6]  1         0  ultralytics.nn.modules.conv.Concat           [1]                           \n",
      " 12                  -1  1    148224  ultralytics.nn.modules.block.C2f             [384, 128, 1]                 \n",
      " 13                  -1  1         0  torch.nn.modules.upsampling.Upsample         [None, 2, 'nearest']          \n",
      " 14             [-1, 4]  1         0  ultralytics.nn.modules.conv.Concat           [1]                           \n",
      " 15                  -1  1     37248  ultralytics.nn.modules.block.C2f             [192, 64, 1]                  \n",
      " 16                  -1  1     36992  ultralytics.nn.modules.conv.Conv             [64, 64, 3, 2]                \n",
      " 17            [-1, 12]  1         0  ultralytics.nn.modules.conv.Concat           [1]                           \n",
      " 18                  -1  1    123648  ultralytics.nn.modules.block.C2f             [192, 128, 1]                 \n",
      " 19                  -1  1    147712  ultralytics.nn.modules.conv.Conv             [128, 128, 3, 2]              \n",
      " 20             [-1, 9]  1         0  ultralytics.nn.modules.conv.Concat           [1]                           \n",
      " 21                  -1  1    493056  ultralytics.nn.modules.block.C2f             [384, 256, 1]                 \n",
      " 22        [15, 18, 21]  1    752092  ultralytics.nn.modules.head.Detect           [4, [64, 128, 256]]           \n",
      "Model summary: 225 layers, 3,011,628 parameters, 3,011,612 gradients, 8.2 GFLOPs\n",
      "\n",
      "Transferred 319/355 items from pretrained weights\n",
      "Freezing layer 'model.22.dfl.conv.weight'\n"
     ]
    },
    {
     "name": "stderr",
     "output_type": "stream",
     "text": [
      "\u001b[34m\u001b[1mtrain: \u001b[0mScanning G:\\Meu Drive\\DIO\\Projetos\\dio-yolo-segmentacao-treinamento\\notebooks\\datasets\\african-wildlife\\train\\labels.cache... 1052 images, 0 backgrounds, 0 corrupt: 100%|██████████| 1052/1052 [00:00<?, ?it/s]\n",
      "\u001b[34m\u001b[1mval: \u001b[0mScanning G:\\Meu Drive\\DIO\\Projetos\\dio-yolo-segmentacao-treinamento\\notebooks\\datasets\\african-wildlife\\valid\\labels.cache... 225 images, 0 backgrounds, 0 corrupt: 100%|██████████| 225/225 [00:00<?, ?it/s]\n"
     ]
    },
    {
     "name": "stdout",
     "output_type": "stream",
     "text": [
      "Plotting labels to runs\\detect\\train2\\labels.jpg... \n",
      "\u001b[34m\u001b[1moptimizer:\u001b[0m 'optimizer=auto' found, ignoring 'lr0=0.01' and 'momentum=0.937' and determining best 'optimizer', 'lr0' and 'momentum' automatically... \n",
      "\u001b[34m\u001b[1moptimizer:\u001b[0m AdamW(lr=0.00125, momentum=0.9) with parameter groups 57 weight(decay=0.0), 64 weight(decay=0.0005), 63 bias(decay=0.0)\n",
      "Image sizes 640 train, 640 val\n",
      "Using 0 dataloader workers\n",
      "Logging results to \u001b[1mruns\\detect\\train2\u001b[0m\n",
      "Starting training for 5 epochs...\n",
      "\n",
      "      Epoch    GPU_mem   box_loss   cls_loss   dfl_loss  Instances       Size\n"
     ]
    },
    {
     "name": "stderr",
     "output_type": "stream",
     "text": [
      "        1/5         0G     0.8342       2.21      1.206         34        640: 100%|██████████| 66/66 [07:40<00:00,  6.98s/it]\n",
      "                 Class     Images  Instances      Box(P          R      mAP50  mAP50-95): 100%|██████████| 8/8 [00:25<00:00,  3.23s/it]\n"
     ]
    },
    {
     "name": "stdout",
     "output_type": "stream",
     "text": [
      "                   all        225        379      0.569      0.593      0.625      0.448\n",
      "\n",
      "      Epoch    GPU_mem   box_loss   cls_loss   dfl_loss  Instances       Size\n"
     ]
    },
    {
     "name": "stderr",
     "output_type": "stream",
     "text": [
      "        2/5         0G     0.8924      1.488      1.234         52        640: 100%|██████████| 66/66 [08:03<00:00,  7.33s/it]\n",
      "                 Class     Images  Instances      Box(P          R      mAP50  mAP50-95): 100%|██████████| 8/8 [00:25<00:00,  3.15s/it]\n"
     ]
    },
    {
     "name": "stdout",
     "output_type": "stream",
     "text": [
      "                   all        225        379      0.734      0.674      0.778      0.565\n",
      "\n",
      "      Epoch    GPU_mem   box_loss   cls_loss   dfl_loss  Instances       Size\n"
     ]
    },
    {
     "name": "stderr",
     "output_type": "stream",
     "text": [
      "        3/5         0G      0.894      1.385      1.235         54        640: 100%|██████████| 66/66 [06:38<00:00,  6.04s/it]\n",
      "                 Class     Images  Instances      Box(P          R      mAP50  mAP50-95): 100%|██████████| 8/8 [00:23<00:00,  2.97s/it]"
     ]
    },
    {
     "name": "stdout",
     "output_type": "stream",
     "text": [
      "                   all        225        379      0.782      0.754       0.81      0.563\n"
     ]
    },
    {
     "name": "stderr",
     "output_type": "stream",
     "text": [
      "\n"
     ]
    },
    {
     "name": "stdout",
     "output_type": "stream",
     "text": [
      "\n",
      "      Epoch    GPU_mem   box_loss   cls_loss   dfl_loss  Instances       Size\n"
     ]
    },
    {
     "name": "stderr",
     "output_type": "stream",
     "text": [
      "        4/5         0G     0.8515      1.226      1.209         56        640: 100%|██████████| 66/66 [06:54<00:00,  6.27s/it]\n",
      "                 Class     Images  Instances      Box(P          R      mAP50  mAP50-95): 100%|██████████| 8/8 [00:30<00:00,  3.82s/it]"
     ]
    },
    {
     "name": "stdout",
     "output_type": "stream",
     "text": [
      "                   all        225        379      0.834      0.776      0.863      0.651\n"
     ]
    },
    {
     "name": "stderr",
     "output_type": "stream",
     "text": [
      "\n"
     ]
    },
    {
     "name": "stdout",
     "output_type": "stream",
     "text": [
      "\n",
      "      Epoch    GPU_mem   box_loss   cls_loss   dfl_loss  Instances       Size\n"
     ]
    },
    {
     "name": "stderr",
     "output_type": "stream",
     "text": [
      "        5/5         0G     0.7971      1.092      1.174         45        640: 100%|██████████| 66/66 [06:36<00:00,  6.01s/it]\n",
      "                 Class     Images  Instances      Box(P          R      mAP50  mAP50-95): 100%|██████████| 8/8 [00:23<00:00,  3.00s/it]"
     ]
    },
    {
     "name": "stdout",
     "output_type": "stream",
     "text": [
      "                   all        225        379      0.917      0.759      0.903      0.717\n"
     ]
    },
    {
     "name": "stderr",
     "output_type": "stream",
     "text": [
      "\n"
     ]
    },
    {
     "name": "stdout",
     "output_type": "stream",
     "text": [
      "\n",
      "5 epochs completed in 0.636 hours.\n",
      "Optimizer stripped from runs\\detect\\train2\\weights\\last.pt, 6.2MB\n",
      "Optimizer stripped from runs\\detect\\train2\\weights\\best.pt, 6.2MB\n",
      "\n",
      "Validating runs\\detect\\train2\\weights\\best.pt...\n",
      "Ultralytics 8.3.55  Python-3.12.0 torch-2.5.1+cpu CPU (Intel Core(TM) i5-1035G1 1.00GHz)\n",
      "Model summary (fused): 168 layers, 3,006,428 parameters, 0 gradients, 8.1 GFLOPs\n"
     ]
    },
    {
     "name": "stderr",
     "output_type": "stream",
     "text": [
      "                 Class     Images  Instances      Box(P          R      mAP50  mAP50-95): 100%|██████████| 8/8 [00:22<00:00,  2.84s/it]\n"
     ]
    },
    {
     "name": "stdout",
     "output_type": "stream",
     "text": [
      "                   all        225        379      0.917       0.76      0.903      0.718\n",
      "               buffalo         62         89      0.981      0.585      0.875      0.707\n",
      "              elephant         53         91      0.867      0.758      0.874      0.648\n",
      "                 rhino         55         85      0.873       0.89      0.932      0.784\n",
      "                 zebra         59        114      0.948      0.806       0.93      0.732\n",
      "Speed: 1.7ms preprocess, 67.8ms inference, 0.0ms loss, 4.9ms postprocess per image\n",
      "Results saved to \u001b[1mruns\\detect\\train2\u001b[0m\n"
     ]
    }
   ],
   "source": [
    "# 4. Configurar e Treinar o modelo\n",
    "def train_model():\n",
    "    # Inicializar modelo\n",
    "    model = YOLO('yolov8n.pt')  # usar modelo nano (você pode mudar para 's', 'm' ou 'l' se quiser)\n",
    "    \n",
    "    # Configurar parâmetros de treino\n",
    "    results = model.train(\n",
    "        data=\"african-wildlife.yaml\",  # arquivo de configuração\n",
    "        epochs=5,                    # número de épocas\n",
    "        imgsz=640,                     # tamanho da imagem\n",
    "        batch=16,                      # tamanho do batch\n",
    "        patience=20,                   # early stopping\n",
    "        save=True,                     # salvar melhores pesos\n",
    "        device='0' if torch.cuda.is_available() else 'cpu',  # usar GPU se disponível\n",
    "        plots=True                     # gerar gráficos de treino\n",
    "    )\n",
    "    \n",
    "    return model\n",
    "\n",
    "model = train_model()"
   ]
  },
  {
   "cell_type": "code",
   "execution_count": 6,
   "metadata": {},
   "outputs": [
    {
     "name": "stdout",
     "output_type": "stream",
     "text": [
      "Ultralytics 8.3.55  Python-3.12.0 torch-2.5.1+cpu CPU (Intel Core(TM) i5-1035G1 1.00GHz)\n",
      "Model summary (fused): 168 layers, 3,006,428 parameters, 0 gradients, 8.1 GFLOPs\n"
     ]
    },
    {
     "name": "stderr",
     "output_type": "stream",
     "text": [
      "\u001b[34m\u001b[1mval: \u001b[0mScanning G:\\Meu Drive\\DIO\\Projetos\\dio-yolo-segmentacao-treinamento\\notebooks\\datasets\\african-wildlife\\valid\\labels.cache... 225 images, 0 backgrounds, 0 corrupt: 100%|██████████| 225/225 [00:00<?, ?it/s]\n",
      "                 Class     Images  Instances      Box(P          R      mAP50  mAP50-95): 100%|██████████| 15/15 [00:24<00:00,  1.63s/it]\n"
     ]
    },
    {
     "name": "stdout",
     "output_type": "stream",
     "text": [
      "                   all        225        379       0.91      0.767      0.906      0.723\n",
      "               buffalo         62         89      0.981      0.577      0.883      0.714\n",
      "              elephant         53         91      0.854      0.791      0.873      0.649\n",
      "                 rhino         55         85      0.861      0.894      0.936      0.797\n",
      "                 zebra         59        114      0.944      0.807      0.931      0.731\n",
      "Speed: 1.2ms preprocess, 70.2ms inference, 0.0ms loss, 5.2ms postprocess per image\n",
      "Results saved to \u001b[1mruns\\detect\\train22\u001b[0m\n",
      "\n",
      "Métricas de Validação:\n",
      "mAP50: 0.906\n",
      "mAP50-95: 0.723\n"
     ]
    }
   ],
   "source": [
    "# 5. Validação\n",
    "def validate_model(model):\n",
    "    metrics = model.val()\n",
    "    print(\"\\nMétricas de Validação:\")\n",
    "    print(f\"mAP50: {metrics.box.map50:.3f}\")\n",
    "    print(f\"mAP50-95: {metrics.box.map:.3f}\")\n",
    "\n",
    "validate_model(model)"
   ]
  },
  {
   "cell_type": "code",
   "execution_count": 7,
   "metadata": {},
   "outputs": [
    {
     "name": "stdout",
     "output_type": "stream",
     "text": [
      "\n",
      "image 1/1 g:\\Meu Drive\\DIO\\Projetos\\dio-yolo-segmentacao-treinamento\\notebooks\\datasets\\african-wildlife\\test\\images\\1 (103).jpg: 544x640 1 buffalo, 151.0ms\n",
      "Speed: 5.3ms preprocess, 151.0ms inference, 3.0ms postprocess per image at shape (1, 3, 544, 640)\n"
     ]
    },
    {
     "data": {
      "text/plain": [
       "<Figure size 1200x800 with 1 Axes>"
      ]
     },
     "metadata": {},
     "output_type": "display_data"
    },
    {
     "name": "stdout",
     "output_type": "stream",
     "text": [
      "\n",
      "image 1/1 g:\\Meu Drive\\DIO\\Projetos\\dio-yolo-segmentacao-treinamento\\notebooks\\datasets\\african-wildlife\\test\\images\\1 (121).jpg: 512x640 1 buffalo, 1 elephant, 155.2ms\n",
      "Speed: 3.5ms preprocess, 155.2ms inference, 1.8ms postprocess per image at shape (1, 3, 512, 640)\n"
     ]
    },
    {
     "data": {
      "text/plain": [
       "<Figure size 1200x800 with 1 Axes>"
      ]
     },
     "metadata": {},
     "output_type": "display_data"
    },
    {
     "name": "stdout",
     "output_type": "stream",
     "text": [
      "\n",
      "image 1/1 g:\\Meu Drive\\DIO\\Projetos\\dio-yolo-segmentacao-treinamento\\notebooks\\datasets\\african-wildlife\\test\\images\\1 (128).jpg: 416x640 1 buffalo, 166.0ms\n",
      "Speed: 3.7ms preprocess, 166.0ms inference, 1.2ms postprocess per image at shape (1, 3, 416, 640)\n"
     ]
    },
    {
     "data": {
      "text/plain": [
       "<Figure size 1200x800 with 1 Axes>"
      ]
     },
     "metadata": {},
     "output_type": "display_data"
    },
    {
     "name": "stdout",
     "output_type": "stream",
     "text": [
      "\n",
      "image 1/1 g:\\Meu Drive\\DIO\\Projetos\\dio-yolo-segmentacao-treinamento\\notebooks\\datasets\\african-wildlife\\test\\images\\1 (130).jpg: 448x640 1 buffalo, 1 rhino, 174.8ms\n",
      "Speed: 4.9ms preprocess, 174.8ms inference, 1.0ms postprocess per image at shape (1, 3, 448, 640)\n"
     ]
    },
    {
     "data": {
      "text/plain": [
       "<Figure size 1200x800 with 1 Axes>"
      ]
     },
     "metadata": {},
     "output_type": "display_data"
    },
    {
     "name": "stdout",
     "output_type": "stream",
     "text": [
      "\n",
      "image 1/1 g:\\Meu Drive\\DIO\\Projetos\\dio-yolo-segmentacao-treinamento\\notebooks\\datasets\\african-wildlife\\test\\images\\1 (131).jpg: 480x640 1 buffalo, 157.6ms\n",
      "Speed: 4.5ms preprocess, 157.6ms inference, 1.7ms postprocess per image at shape (1, 3, 480, 640)\n"
     ]
    },
    {
     "data": {
      "text/plain": [
       "<Figure size 1200x800 with 1 Axes>"
      ]
     },
     "metadata": {},
     "output_type": "display_data"
    }
   ],
   "source": [
    "# 6. Testar em algumas imagens\n",
    "def test_model(model):\n",
    "    test_images = list((DATASET_PATH/'test'/'images').glob('*.jpg'))[:5]\n",
    "    class_names = ['buffalo', 'elephant', 'rhino', 'zebra']\n",
    "    \n",
    "    for img_path in test_images:\n",
    "        # Fazer predição\n",
    "        results = model.predict(str(img_path), conf=0.25)\n",
    "        \n",
    "        # Carregar e converter imagem\n",
    "        img = cv2.imread(str(img_path))\n",
    "        img = cv2.cvtColor(img, cv2.COLOR_BGR2RGB)\n",
    "        \n",
    "        # Desenhar bounding boxes\n",
    "        for result in results:\n",
    "            boxes = result.boxes\n",
    "            for box in boxes:\n",
    "                # Extrair coordenadas e informações\n",
    "                x1, y1, x2, y2 = box.xyxy[0]\n",
    "                conf = box.conf[0]\n",
    "                cls = int(box.cls[0])\n",
    "                \n",
    "                # Criar label\n",
    "                label = f\"{class_names[cls]}: {conf:.2f}\"\n",
    "                \n",
    "                # Desenhar box e label\n",
    "                cv2.rectangle(img, \n",
    "                            (int(x1), int(y1)), \n",
    "                            (int(x2), int(y2)), \n",
    "                            (0, 255, 0), 2)\n",
    "                cv2.putText(img, label, \n",
    "                          (int(x1), int(y1-10)), \n",
    "                          cv2.FONT_HERSHEY_SIMPLEX, \n",
    "                          0.9, (0, 255, 0), 2)\n",
    "        \n",
    "        # Mostrar imagem\n",
    "        plt.figure(figsize=(12, 8))\n",
    "        plt.imshow(img)\n",
    "        plt.axis('off')\n",
    "        plt.title(f'Predições para {img_path.name}')\n",
    "        plt.show()\n",
    "\n",
    "test_model(model)"
   ]
  },
  {
   "cell_type": "code",
   "execution_count": 9,
   "metadata": {},
   "outputs": [],
   "source": [
    "# 7. Salvar informações do treino\n",
    "def save_training_info():\n",
    "    # Criar arquivo com informações do treino\n",
    "    info = {\n",
    "        \"model_base\": \"yolov8n\",\n",
    "        \"epochs\": 5,\n",
    "        \"image_size\": 640,\n",
    "        \"batch_size\": 16,\n",
    "        \"classes\": ['buffalo', 'elephant', 'rhino', 'zebra'],\n",
    "        \"dataset\": \"African Wildlife\"\n",
    "    }\n",
    "    \n",
    "    with open(RESULTS_PATH/'training_info.txt', 'w') as f:\n",
    "        for key, value in info.items():\n",
    "            f.write(f\"{key}: {value}\\n\")\n",
    "\n",
    "save_training_info()"
   ]
  },
  {
   "cell_type": "code",
   "execution_count": null,
   "metadata": {},
   "outputs": [],
   "source": []
  },
  {
   "cell_type": "code",
   "execution_count": null,
   "metadata": {},
   "outputs": [],
   "source": []
  },
  {
   "cell_type": "code",
   "execution_count": null,
   "metadata": {},
   "outputs": [],
   "source": []
  }
 ],
 "metadata": {
  "kernelspec": {
   "display_name": "Python 3",
   "language": "python",
   "name": "python3"
  },
  "language_info": {
   "codemirror_mode": {
    "name": "ipython",
    "version": 3
   },
   "file_extension": ".py",
   "mimetype": "text/x-python",
   "name": "python",
   "nbconvert_exporter": "python",
   "pygments_lexer": "ipython3",
   "version": "3.12.0"
  }
 },
 "nbformat": 4,
 "nbformat_minor": 2
}
